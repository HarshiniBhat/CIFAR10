{
  "nbformat": 4,
  "nbformat_minor": 0,
  "metadata": {
    "accelerator": "GPU",
    "colab": {
      "name": "NewCifar.ipynb",
      "provenance": [],
      "collapsed_sections": []
    },
    "kernelspec": {
      "display_name": "Python 3",
      "name": "python3"
    },
    "language_info": {
      "name": "python"
    },
    "widgets": {
      "application/vnd.jupyter.widget-state+json": {
        "33d526c9ee734b848341e5b614185266": {
          "model_module": "@jupyter-widgets/controls",
          "model_name": "HBoxModel",
          "model_module_version": "1.5.0",
          "state": {
            "_view_name": "HBoxView",
            "_dom_classes": [],
            "_model_name": "HBoxModel",
            "_view_module": "@jupyter-widgets/controls",
            "_model_module_version": "1.5.0",
            "_view_count": null,
            "_view_module_version": "1.5.0",
            "box_style": "",
            "layout": "IPY_MODEL_10ff5db02ce3475c8fb378764d828a38",
            "_model_module": "@jupyter-widgets/controls",
            "children": [
              "IPY_MODEL_cdf95f0b2a704defaf400947ac67a793",
              "IPY_MODEL_b2225e0c5c1643b9b45a8d39b213df8c",
              "IPY_MODEL_c5c8020440994655935d4e99aacb2a05"
            ]
          }
        },
        "10ff5db02ce3475c8fb378764d828a38": {
          "model_module": "@jupyter-widgets/base",
          "model_name": "LayoutModel",
          "model_module_version": "1.2.0",
          "state": {
            "_view_name": "LayoutView",
            "grid_template_rows": null,
            "right": null,
            "justify_content": null,
            "_view_module": "@jupyter-widgets/base",
            "overflow": null,
            "_model_module_version": "1.2.0",
            "_view_count": null,
            "flex_flow": null,
            "width": null,
            "min_width": null,
            "border": null,
            "align_items": null,
            "bottom": null,
            "_model_module": "@jupyter-widgets/base",
            "top": null,
            "grid_column": null,
            "overflow_y": null,
            "overflow_x": null,
            "grid_auto_flow": null,
            "grid_area": null,
            "grid_template_columns": null,
            "flex": null,
            "_model_name": "LayoutModel",
            "justify_items": null,
            "grid_row": null,
            "max_height": null,
            "align_content": null,
            "visibility": null,
            "align_self": null,
            "height": null,
            "min_height": null,
            "padding": null,
            "grid_auto_rows": null,
            "grid_gap": null,
            "max_width": null,
            "order": null,
            "_view_module_version": "1.2.0",
            "grid_template_areas": null,
            "object_position": null,
            "object_fit": null,
            "grid_auto_columns": null,
            "margin": null,
            "display": null,
            "left": null
          }
        },
        "cdf95f0b2a704defaf400947ac67a793": {
          "model_module": "@jupyter-widgets/controls",
          "model_name": "HTMLModel",
          "model_module_version": "1.5.0",
          "state": {
            "_view_name": "HTMLView",
            "style": "IPY_MODEL_a92ca41d26b2450e9fb5052c258111de",
            "_dom_classes": [],
            "description": "",
            "_model_name": "HTMLModel",
            "placeholder": "​",
            "_view_module": "@jupyter-widgets/controls",
            "_model_module_version": "1.5.0",
            "value": "",
            "_view_count": null,
            "_view_module_version": "1.5.0",
            "description_tooltip": null,
            "_model_module": "@jupyter-widgets/controls",
            "layout": "IPY_MODEL_3b029307d1954e6d857b73310e22d62a"
          }
        },
        "b2225e0c5c1643b9b45a8d39b213df8c": {
          "model_module": "@jupyter-widgets/controls",
          "model_name": "FloatProgressModel",
          "model_module_version": "1.5.0",
          "state": {
            "_view_name": "ProgressView",
            "style": "IPY_MODEL_060eb524d1a143c585c36265c40e2bce",
            "_dom_classes": [],
            "description": "",
            "_model_name": "FloatProgressModel",
            "bar_style": "success",
            "max": 170498071,
            "_view_module": "@jupyter-widgets/controls",
            "_model_module_version": "1.5.0",
            "value": 170498071,
            "_view_count": null,
            "_view_module_version": "1.5.0",
            "orientation": "horizontal",
            "min": 0,
            "description_tooltip": null,
            "_model_module": "@jupyter-widgets/controls",
            "layout": "IPY_MODEL_17b0ce4fb3384f619665fe4b6b5ae370"
          }
        },
        "c5c8020440994655935d4e99aacb2a05": {
          "model_module": "@jupyter-widgets/controls",
          "model_name": "HTMLModel",
          "model_module_version": "1.5.0",
          "state": {
            "_view_name": "HTMLView",
            "style": "IPY_MODEL_c41cea6938b44292881ade26be1c6e58",
            "_dom_classes": [],
            "description": "",
            "_model_name": "HTMLModel",
            "placeholder": "​",
            "_view_module": "@jupyter-widgets/controls",
            "_model_module_version": "1.5.0",
            "value": " 170499072/? [00:03&lt;00:00, 58858798.97it/s]",
            "_view_count": null,
            "_view_module_version": "1.5.0",
            "description_tooltip": null,
            "_model_module": "@jupyter-widgets/controls",
            "layout": "IPY_MODEL_d59808b3ad714db58eb72163a45f8f0c"
          }
        },
        "a92ca41d26b2450e9fb5052c258111de": {
          "model_module": "@jupyter-widgets/controls",
          "model_name": "DescriptionStyleModel",
          "model_module_version": "1.5.0",
          "state": {
            "_view_name": "StyleView",
            "_model_name": "DescriptionStyleModel",
            "description_width": "",
            "_view_module": "@jupyter-widgets/base",
            "_model_module_version": "1.5.0",
            "_view_count": null,
            "_view_module_version": "1.2.0",
            "_model_module": "@jupyter-widgets/controls"
          }
        },
        "3b029307d1954e6d857b73310e22d62a": {
          "model_module": "@jupyter-widgets/base",
          "model_name": "LayoutModel",
          "model_module_version": "1.2.0",
          "state": {
            "_view_name": "LayoutView",
            "grid_template_rows": null,
            "right": null,
            "justify_content": null,
            "_view_module": "@jupyter-widgets/base",
            "overflow": null,
            "_model_module_version": "1.2.0",
            "_view_count": null,
            "flex_flow": null,
            "width": null,
            "min_width": null,
            "border": null,
            "align_items": null,
            "bottom": null,
            "_model_module": "@jupyter-widgets/base",
            "top": null,
            "grid_column": null,
            "overflow_y": null,
            "overflow_x": null,
            "grid_auto_flow": null,
            "grid_area": null,
            "grid_template_columns": null,
            "flex": null,
            "_model_name": "LayoutModel",
            "justify_items": null,
            "grid_row": null,
            "max_height": null,
            "align_content": null,
            "visibility": null,
            "align_self": null,
            "height": null,
            "min_height": null,
            "padding": null,
            "grid_auto_rows": null,
            "grid_gap": null,
            "max_width": null,
            "order": null,
            "_view_module_version": "1.2.0",
            "grid_template_areas": null,
            "object_position": null,
            "object_fit": null,
            "grid_auto_columns": null,
            "margin": null,
            "display": null,
            "left": null
          }
        },
        "060eb524d1a143c585c36265c40e2bce": {
          "model_module": "@jupyter-widgets/controls",
          "model_name": "ProgressStyleModel",
          "model_module_version": "1.5.0",
          "state": {
            "_view_name": "StyleView",
            "_model_name": "ProgressStyleModel",
            "description_width": "",
            "_view_module": "@jupyter-widgets/base",
            "_model_module_version": "1.5.0",
            "_view_count": null,
            "_view_module_version": "1.2.0",
            "bar_color": null,
            "_model_module": "@jupyter-widgets/controls"
          }
        },
        "17b0ce4fb3384f619665fe4b6b5ae370": {
          "model_module": "@jupyter-widgets/base",
          "model_name": "LayoutModel",
          "model_module_version": "1.2.0",
          "state": {
            "_view_name": "LayoutView",
            "grid_template_rows": null,
            "right": null,
            "justify_content": null,
            "_view_module": "@jupyter-widgets/base",
            "overflow": null,
            "_model_module_version": "1.2.0",
            "_view_count": null,
            "flex_flow": null,
            "width": null,
            "min_width": null,
            "border": null,
            "align_items": null,
            "bottom": null,
            "_model_module": "@jupyter-widgets/base",
            "top": null,
            "grid_column": null,
            "overflow_y": null,
            "overflow_x": null,
            "grid_auto_flow": null,
            "grid_area": null,
            "grid_template_columns": null,
            "flex": null,
            "_model_name": "LayoutModel",
            "justify_items": null,
            "grid_row": null,
            "max_height": null,
            "align_content": null,
            "visibility": null,
            "align_self": null,
            "height": null,
            "min_height": null,
            "padding": null,
            "grid_auto_rows": null,
            "grid_gap": null,
            "max_width": null,
            "order": null,
            "_view_module_version": "1.2.0",
            "grid_template_areas": null,
            "object_position": null,
            "object_fit": null,
            "grid_auto_columns": null,
            "margin": null,
            "display": null,
            "left": null
          }
        },
        "c41cea6938b44292881ade26be1c6e58": {
          "model_module": "@jupyter-widgets/controls",
          "model_name": "DescriptionStyleModel",
          "model_module_version": "1.5.0",
          "state": {
            "_view_name": "StyleView",
            "_model_name": "DescriptionStyleModel",
            "description_width": "",
            "_view_module": "@jupyter-widgets/base",
            "_model_module_version": "1.5.0",
            "_view_count": null,
            "_view_module_version": "1.2.0",
            "_model_module": "@jupyter-widgets/controls"
          }
        },
        "d59808b3ad714db58eb72163a45f8f0c": {
          "model_module": "@jupyter-widgets/base",
          "model_name": "LayoutModel",
          "model_module_version": "1.2.0",
          "state": {
            "_view_name": "LayoutView",
            "grid_template_rows": null,
            "right": null,
            "justify_content": null,
            "_view_module": "@jupyter-widgets/base",
            "overflow": null,
            "_model_module_version": "1.2.0",
            "_view_count": null,
            "flex_flow": null,
            "width": null,
            "min_width": null,
            "border": null,
            "align_items": null,
            "bottom": null,
            "_model_module": "@jupyter-widgets/base",
            "top": null,
            "grid_column": null,
            "overflow_y": null,
            "overflow_x": null,
            "grid_auto_flow": null,
            "grid_area": null,
            "grid_template_columns": null,
            "flex": null,
            "_model_name": "LayoutModel",
            "justify_items": null,
            "grid_row": null,
            "max_height": null,
            "align_content": null,
            "visibility": null,
            "align_self": null,
            "height": null,
            "min_height": null,
            "padding": null,
            "grid_auto_rows": null,
            "grid_gap": null,
            "max_width": null,
            "order": null,
            "_view_module_version": "1.2.0",
            "grid_template_areas": null,
            "object_position": null,
            "object_fit": null,
            "grid_auto_columns": null,
            "margin": null,
            "display": null,
            "left": null
          }
        }
      }
    }
  },
  "cells": [
    {
      "cell_type": "code",
      "metadata": {
        "id": "eIDOXwmfBN4v",
        "colab": {
          "base_uri": "https://localhost:8080/"
        },
        "outputId": "ff91a9ac-60a4-4348-cac1-4bf1477f4225"
      },
      "source": [
        "!pip install --upgrade albumentations"
      ],
      "execution_count": 1,
      "outputs": [
        {
          "output_type": "stream",
          "name": "stdout",
          "text": [
            "Requirement already satisfied: albumentations in /usr/local/lib/python3.7/dist-packages (0.1.12)\n",
            "Collecting albumentations\n",
            "  Downloading albumentations-1.1.0-py3-none-any.whl (102 kB)\n",
            "\u001b[?25l\r\u001b[K     |███▏                            | 10 kB 21.0 MB/s eta 0:00:01\r\u001b[K     |██████▍                         | 20 kB 26.0 MB/s eta 0:00:01\r\u001b[K     |█████████▋                      | 30 kB 12.6 MB/s eta 0:00:01\r\u001b[K     |████████████▉                   | 40 kB 9.7 MB/s eta 0:00:01\r\u001b[K     |████████████████                | 51 kB 5.2 MB/s eta 0:00:01\r\u001b[K     |███████████████████▏            | 61 kB 5.6 MB/s eta 0:00:01\r\u001b[K     |██████████████████████▍         | 71 kB 6.0 MB/s eta 0:00:01\r\u001b[K     |█████████████████████████▋      | 81 kB 6.7 MB/s eta 0:00:01\r\u001b[K     |████████████████████████████▉   | 92 kB 6.9 MB/s eta 0:00:01\r\u001b[K     |████████████████████████████████| 102 kB 5.5 MB/s eta 0:00:01\r\u001b[K     |████████████████████████████████| 102 kB 5.5 MB/s \n",
            "\u001b[?25hCollecting qudida>=0.0.4\n",
            "  Downloading qudida-0.0.4-py3-none-any.whl (3.5 kB)\n",
            "Requirement already satisfied: scikit-image>=0.16.1 in /usr/local/lib/python3.7/dist-packages (from albumentations) (0.18.3)\n",
            "Requirement already satisfied: PyYAML in /usr/local/lib/python3.7/dist-packages (from albumentations) (3.13)\n",
            "Requirement already satisfied: scipy in /usr/local/lib/python3.7/dist-packages (from albumentations) (1.4.1)\n",
            "Requirement already satisfied: numpy>=1.11.1 in /usr/local/lib/python3.7/dist-packages (from albumentations) (1.19.5)\n",
            "Collecting opencv-python-headless>=4.1.1\n",
            "  Downloading opencv_python_headless-4.5.4.58-cp37-cp37m-manylinux2014_x86_64.whl (47.6 MB)\n",
            "\u001b[K     |████████████████████████████████| 47.6 MB 37 kB/s \n",
            "\u001b[?25hRequirement already satisfied: typing-extensions in /usr/local/lib/python3.7/dist-packages (from qudida>=0.0.4->albumentations) (3.10.0.2)\n",
            "Requirement already satisfied: scikit-learn>=0.19.1 in /usr/local/lib/python3.7/dist-packages (from qudida>=0.0.4->albumentations) (1.0.1)\n",
            "Requirement already satisfied: networkx>=2.0 in /usr/local/lib/python3.7/dist-packages (from scikit-image>=0.16.1->albumentations) (2.6.3)\n",
            "Requirement already satisfied: PyWavelets>=1.1.1 in /usr/local/lib/python3.7/dist-packages (from scikit-image>=0.16.1->albumentations) (1.2.0)\n",
            "Requirement already satisfied: tifffile>=2019.7.26 in /usr/local/lib/python3.7/dist-packages (from scikit-image>=0.16.1->albumentations) (2021.11.2)\n",
            "Requirement already satisfied: matplotlib!=3.0.0,>=2.0.0 in /usr/local/lib/python3.7/dist-packages (from scikit-image>=0.16.1->albumentations) (3.2.2)\n",
            "Requirement already satisfied: pillow!=7.1.0,!=7.1.1,>=4.3.0 in /usr/local/lib/python3.7/dist-packages (from scikit-image>=0.16.1->albumentations) (7.1.2)\n",
            "Requirement already satisfied: imageio>=2.3.0 in /usr/local/lib/python3.7/dist-packages (from scikit-image>=0.16.1->albumentations) (2.4.1)\n",
            "Requirement already satisfied: pyparsing!=2.0.4,!=2.1.2,!=2.1.6,>=2.0.1 in /usr/local/lib/python3.7/dist-packages (from matplotlib!=3.0.0,>=2.0.0->scikit-image>=0.16.1->albumentations) (2.4.7)\n",
            "Requirement already satisfied: python-dateutil>=2.1 in /usr/local/lib/python3.7/dist-packages (from matplotlib!=3.0.0,>=2.0.0->scikit-image>=0.16.1->albumentations) (2.8.2)\n",
            "Requirement already satisfied: cycler>=0.10 in /usr/local/lib/python3.7/dist-packages (from matplotlib!=3.0.0,>=2.0.0->scikit-image>=0.16.1->albumentations) (0.11.0)\n",
            "Requirement already satisfied: kiwisolver>=1.0.1 in /usr/local/lib/python3.7/dist-packages (from matplotlib!=3.0.0,>=2.0.0->scikit-image>=0.16.1->albumentations) (1.3.2)\n",
            "Requirement already satisfied: six>=1.5 in /usr/local/lib/python3.7/dist-packages (from python-dateutil>=2.1->matplotlib!=3.0.0,>=2.0.0->scikit-image>=0.16.1->albumentations) (1.15.0)\n",
            "Requirement already satisfied: joblib>=0.11 in /usr/local/lib/python3.7/dist-packages (from scikit-learn>=0.19.1->qudida>=0.0.4->albumentations) (1.1.0)\n",
            "Requirement already satisfied: threadpoolctl>=2.0.0 in /usr/local/lib/python3.7/dist-packages (from scikit-learn>=0.19.1->qudida>=0.0.4->albumentations) (3.0.0)\n",
            "Installing collected packages: opencv-python-headless, qudida, albumentations\n",
            "  Attempting uninstall: albumentations\n",
            "    Found existing installation: albumentations 0.1.12\n",
            "    Uninstalling albumentations-0.1.12:\n",
            "      Successfully uninstalled albumentations-0.1.12\n",
            "Successfully installed albumentations-1.1.0 opencv-python-headless-4.5.4.58 qudida-0.0.4\n"
          ]
        }
      ]
    },
    {
      "cell_type": "code",
      "metadata": {
        "id": "bTgj81qaBYom"
      },
      "source": [
        "import torch\n",
        "import torchvision\n",
        "import torch.nn as nn\n",
        "import torch.nn.functional as F\n",
        "import torch.optim as optim\n",
        "from torchvision import datasets, transforms\n",
        "from torchvision.transforms import ToTensor\n",
        "import albumentations as A \n",
        "import albumentations.pytorch\n",
        "from imgaug import augmenters as iaa\n",
        "import numpy as np\n",
        "import matplotlib.pyplot as plt \n",
        "\n",
        "import cifarmodel\n",
        "import train \n",
        "import test"
      ],
      "execution_count": 2,
      "outputs": []
    },
    {
      "cell_type": "code",
      "metadata": {
        "id": "bDcQfFi6BYv1",
        "colab": {
          "base_uri": "https://localhost:8080/",
          "height": 188,
          "referenced_widgets": [
            "33d526c9ee734b848341e5b614185266",
            "10ff5db02ce3475c8fb378764d828a38",
            "cdf95f0b2a704defaf400947ac67a793",
            "b2225e0c5c1643b9b45a8d39b213df8c",
            "c5c8020440994655935d4e99aacb2a05",
            "a92ca41d26b2450e9fb5052c258111de",
            "3b029307d1954e6d857b73310e22d62a",
            "060eb524d1a143c585c36265c40e2bce",
            "17b0ce4fb3384f619665fe4b6b5ae370",
            "c41cea6938b44292881ade26be1c6e58",
            "d59808b3ad714db58eb72163a45f8f0c"
          ]
        },
        "outputId": "f48be549-ab1c-4bc9-bf83-cb613ee32d82"
      },
      "source": [
        "# loading the dataset\n",
        "data_set = datasets.CIFAR10('./data', train=True, download=True)\n",
        "cdata =data_set.data\n",
        "\n",
        "# Calculate the mean and std for normalization\n",
        "print('[Train]')\n",
        "print(' - Numpy Shape:', cdata.shape)\n",
        "print(' - min:', np.min(cdata, axis=(0,1,2)) / 255.)\n",
        "print(' - max:', np.max(cdata, axis=(0,1,2)) / 255.)\n",
        "print(' - mean:', np.mean(cdata, axis=(0,1,2)) / 255.)\n",
        "print(' - std:', np.std(cdata, axis=(0,1,2)) / 255.)"
      ],
      "execution_count": 3,
      "outputs": [
        {
          "output_type": "stream",
          "name": "stdout",
          "text": [
            "Downloading https://www.cs.toronto.edu/~kriz/cifar-10-python.tar.gz to ./data/cifar-10-python.tar.gz\n"
          ]
        },
        {
          "output_type": "display_data",
          "data": {
            "application/vnd.jupyter.widget-view+json": {
              "model_id": "33d526c9ee734b848341e5b614185266",
              "version_minor": 0,
              "version_major": 2
            },
            "text/plain": [
              "  0%|          | 0/170498071 [00:00<?, ?it/s]"
            ]
          },
          "metadata": {}
        },
        {
          "output_type": "stream",
          "name": "stdout",
          "text": [
            "Extracting ./data/cifar-10-python.tar.gz to ./data\n",
            "[Train]\n",
            " - Numpy Shape: (50000, 32, 32, 3)\n",
            " - min: [0. 0. 0.]\n",
            " - max: [1. 1. 1.]\n",
            " - mean: [0.49139968 0.48215841 0.44653091]\n",
            " - std: [0.24703223 0.24348513 0.26158784]\n"
          ]
        }
      ]
    },
    {
      "cell_type": "code",
      "metadata": {
        "id": "0UAQEcdlOXWS"
      },
      "source": [
        "## Data Visualisation"
      ],
      "execution_count": 4,
      "outputs": []
    },
    {
      "cell_type": "code",
      "metadata": {
        "id": "2yQ4IG7EBYz2",
        "colab": {
          "base_uri": "https://localhost:8080/"
        },
        "outputId": "9557a35f-8229-4270-d54b-3b52d36ad585"
      },
      "source": [
        "data_set.classes"
      ],
      "execution_count": 5,
      "outputs": [
        {
          "output_type": "execute_result",
          "data": {
            "text/plain": [
              "['airplane',\n",
              " 'automobile',\n",
              " 'bird',\n",
              " 'cat',\n",
              " 'deer',\n",
              " 'dog',\n",
              " 'frog',\n",
              " 'horse',\n",
              " 'ship',\n",
              " 'truck']"
            ]
          },
          "metadata": {},
          "execution_count": 5
        }
      ]
    },
    {
      "cell_type": "code",
      "metadata": {
        "id": "jN9RjLP9BY3S"
      },
      "source": [
        "def viz_data(cols=8, rows=5):\n",
        "  figure = plt.figure(figsize=(14, 10))\n",
        "  for i in range(1, cols * rows + 1):\n",
        "    img, label = data_set[i]\n",
        "\n",
        "    figure.add_subplot(rows, cols, i)\n",
        "    plt.title(data_set.classes[label])\n",
        "    plt.axis(\"off\")\n",
        "    plt.imshow(img, cmap=\"gray\")\n",
        "\n",
        "  plt.tight_layout()\n",
        "  plt.show()"
      ],
      "execution_count": 6,
      "outputs": []
    },
    {
      "cell_type": "code",
      "metadata": {
        "id": "PMf5rQhkBY6Y",
        "colab": {
          "base_uri": "https://localhost:8080/",
          "height": 724
        },
        "outputId": "f74f4b52-6d41-438f-feb0-5ef0900ebd5b"
      },
      "source": [
        "viz_data()"
      ],
      "execution_count": 7,
      "outputs": [
        {
          "output_type": "display_data",
          "data": {
            "image/png": "[encoded data removed]",
            "text/plain": [
              "<Figure size 1008x720 with 40 Axes>"
            ]
          },
          "metadata": {
            "needs_background": "light"
          }
        }
      ]
    },
    {
      "cell_type": "markdown",
      "metadata": {
        "id": "PMG_Lf5aTtru"
      },
      "source": [
        "## Data Augmentation"
      ]
    },
    {
      "cell_type": "code",
      "metadata": {
        "id": "dXCobFweBY9d"
      },
      "source": [
        "def show_images(aug_dict, ncol=6):\n",
        "  nrow = len(aug_dict)\n",
        "\n",
        "  fig, axes = plt.subplots(ncol, nrow, figsize=( 3*nrow, 15), squeeze=False)\n",
        "  for i, (key, aug) in enumerate(aug_dict.items()):\n",
        "    for j in range(ncol):\n",
        "      ax = axes[j,i]\n",
        "      if j == 0:\n",
        "        ax.text(0.5, 0.5, key, horizontalalignment='center', verticalalignment='center', fontsize=15)\n",
        "        ax.get_xaxis().set_visible(False)\n",
        "        ax.get_yaxis().set_visible(False)\n",
        "        ax.axis('off')\n",
        "      else:\n",
        "        image, label = data_set[j-1]\n",
        "        if aug is not None:\n",
        "          transform = A.Compose([aug])\n",
        "          image = np.array(image)\n",
        "          image = transform(image=image)['image']\n",
        "          \n",
        "        ax.imshow(image)\n",
        "        ax.set_title(f'{data_set.classes[label]}')\n",
        "        ax.axis('off')\n",
        "\n",
        "  plt.tight_layout()\n",
        "  plt.show()"
      ],
      "execution_count": 8,
      "outputs": []
    },
    {
      "cell_type": "code",
      "metadata": {
        "id": "qX3D6YoqXoFc"
      },
      "source": [
        ""
      ],
      "execution_count": 8,
      "outputs": []
    },
    {
      "cell_type": "code",
      "metadata": {
        "id": "qjThMJHXXoI5"
      },
      "source": [
        ""
      ],
      "execution_count": 8,
      "outputs": []
    },
    {
      "cell_type": "code",
      "metadata": {
        "id": "h8-xApj0TyRD",
        "colab": {
          "base_uri": "https://localhost:8080/",
          "height": 1000
        },
        "outputId": "de8e7943-1895-4980-8280-235e5e34452d"
      },
      "source": [
        "show_images({\n",
        "    'Original Image': None,\n",
        "    'Horizontal Flip': A.HorizontalFlip(always_apply=True),\n",
        "    'Vertical Flip': A.VerticalFlip(always_apply=True),\n",
        "    'Cut Out': A.CoarseDropout(max_holes=1, max_height=16, max_width=16, min_holes=1, min_height=16, \n",
        "                               min_width=16, fill_value=0.473363, mask_fill_value=None, always_apply=True),\n",
        "    'Gray Scale': A.ToGray(always_apply=True)\n",
        "})"
      ],
      "execution_count": 9,
      "outputs": [
        {
          "output_type": "display_data",
          "data": {
            "image/png": "[encoded data removed]",
            "text/plain": [
              "<Figure size 1080x1080 with 30 Axes>"
            ]
          },
          "metadata": {
            "needs_background": "light"
          }
        }
      ]
    },
    {
      "cell_type": "markdown",
      "metadata": {
        "id": "T2FGM_pQYI61"
      },
      "source": [
        "## Defining the albumentations"
      ]
    },
    {
      "cell_type": "code",
      "metadata": {
        "id": "MC-X5l1OXqDG"
      },
      "source": [
        "## # custom dataset class for albumentations library\n",
        "class AlbumentationImageDataset():\n",
        "  def __init__(self, image_list, train= True):\n",
        "      self.image_list = image_list\n",
        "      self.aug = A.Compose({\n",
        "          A.Normalize((0.49139968, 0.48215841, 0.44653091), (0.24703223, 0.24348513, 0.26158784)),\n",
        "          A.HorizontalFlip(),\n",
        "          A.ShiftScaleRotate(),\n",
        "          A.CoarseDropout(1, 16, 16, 1, 16, 16,fill_value=0.473363, mask_fill_value=None),\n",
        "          A.ToGray()\n",
        "      })\n",
        "\n",
        "      self.norm = A.Compose({A.Normalize((0.49139968, 0.48215841, 0.44653091), (0.24703223, 0.24348513, 0.26158784)),\n",
        "      })\n",
        "      self.train = train\n",
        "        \n",
        "  def __len__(self):\n",
        "      return (len(self.image_list))\n",
        "\n",
        "  def __getitem__(self, i):\n",
        "      \n",
        "      image, label = self.image_list[i]\n",
        "      \n",
        "      if self.train:\n",
        "        #apply augmentation only for training\n",
        "        image = self.aug(image=np.array(image))['image']\n",
        "      else:\n",
        "        image = self.norm(image=np.array(image))['image']\n",
        "      image = np.transpose(image, (2, 0, 1)).astype(np.float32)\n",
        "      return torch.tensor(image, dtype=torch.float), label"
      ],
      "execution_count": 10,
      "outputs": []
    },
    {
      "cell_type": "code",
      "metadata": {
        "id": "qHyHMD0yXrG0",
        "colab": {
          "base_uri": "https://localhost:8080/"
        },
        "outputId": "80e78348-4901-407c-96b5-5635cd09239a"
      },
      "source": [
        "SEED = 1\n",
        "\n",
        "# CUDA?\n",
        "cuda = torch.cuda.is_available()\n",
        "print(\"CUDA Available:\", cuda)\n",
        "\n",
        "# For reproducibility\n",
        "torch.manual_seed(SEED)\n",
        "\n",
        "if cuda:\n",
        "    torch.cuda.manual_seed(SEED)\n",
        "    BATCH_SIZE=64\n",
        "else:\n",
        "    BATCH_SIZE=64"
      ],
      "execution_count": 11,
      "outputs": [
        {
          "output_type": "stream",
          "name": "stdout",
          "text": [
            "CUDA Available: True\n"
          ]
        }
      ]
    },
    {
      "cell_type": "code",
      "metadata": {
        "id": "4en5T18_XrLO",
        "colab": {
          "base_uri": "https://localhost:8080/"
        },
        "outputId": "429d8b08-cc41-43ed-f84b-623912f3e31b"
      },
      "source": [
        "trainset = torchvision.datasets.CIFAR10(root='./data', train=True,\n",
        "                                        download=True )\n",
        "testset = torchvision.datasets.CIFAR10(root='./data', train=False,\n",
        "                                       download=True)\n",
        "\n",
        "\n",
        "train_loader = torch.utils.data.DataLoader(AlbumentationImageDataset(trainset, train=True), batch_size=BATCH_SIZE,\n",
        "                                          shuffle=True, num_workers=2)\n",
        "test_loader = torch.utils.data.DataLoader(AlbumentationImageDataset(testset, train=False), batch_size=BATCH_SIZE,\n",
        "                                          shuffle=False, num_workers=1)"
      ],
      "execution_count": 12,
      "outputs": [
        {
          "output_type": "stream",
          "name": "stdout",
          "text": [
            "Files already downloaded and verified\n",
            "Files already downloaded and verified\n"
          ]
        }
      ]
    },
    {
      "cell_type": "code",
      "metadata": {
        "id": "f9RmxO7-jNyw"
      },
      "source": [
        "import cifarmodel"
      ],
      "execution_count": 13,
      "outputs": []
    },
    {
      "cell_type": "code",
      "metadata": {
        "id": "Q9mgiwxzswYR",
        "colab": {
          "base_uri": "https://localhost:8080/"
        },
        "outputId": "bc2a7b58-af55-4b98-8240-5a665483287c"
      },
      "source": [
        "from torchsummary import summary\n",
        "use_cuda = torch.cuda.is_available()\n",
        "device = torch.device(\"cuda\" if use_cuda else \"cpu\")\n",
        "print(device)\n",
        "net = cifarmodel.CNN().to(device)\n",
        "summary(net, input_size=(3, 32, 32))"
      ],
      "execution_count": 14,
      "outputs": [
        {
          "output_type": "stream",
          "name": "stdout",
          "text": [
            "cuda\n",
            "----------------------------------------------------------------\n",
            "        Layer (type)               Output Shape         Param #\n",
            "================================================================\n",
            "            Conv2d-1           [-1, 32, 32, 32]             864\n",
            "       BatchNorm2d-2           [-1, 32, 32, 32]              64\n",
            "              ReLU-3           [-1, 32, 32, 32]               0\n",
            "           Dropout-4           [-1, 32, 32, 32]               0\n",
            "            Conv2d-5           [-1, 32, 32, 32]           9,216\n",
            "       BatchNorm2d-6           [-1, 32, 32, 32]              64\n",
            "              ReLU-7           [-1, 32, 32, 32]               0\n",
            "           Dropout-8           [-1, 32, 32, 32]               0\n",
            "            Conv2d-9           [-1, 64, 30, 30]          18,432\n",
            "      BatchNorm2d-10           [-1, 64, 30, 30]             128\n",
            "             ReLU-11           [-1, 64, 30, 30]               0\n",
            "          Dropout-12           [-1, 64, 30, 30]               0\n",
            "           Conv2d-13           [-1, 64, 16, 16]           4,096\n",
            "           Conv2d-14           [-1, 64, 16, 16]           4,096\n",
            "      BatchNorm2d-15           [-1, 64, 16, 16]             128\n",
            "             ReLU-16           [-1, 64, 16, 16]               0\n",
            "          Dropout-17           [-1, 64, 16, 16]               0\n",
            "           Conv2d-18           [-1, 64, 16, 16]             640\n",
            "           Conv2d-19           [-1, 64, 16, 16]           4,160\n",
            "      BatchNorm2d-20           [-1, 64, 16, 16]             128\n",
            "             ReLU-21           [-1, 64, 16, 16]               0\n",
            "           Conv2d-22           [-1, 32, 16, 16]          18,432\n",
            "      BatchNorm2d-23           [-1, 32, 16, 16]              64\n",
            "             ReLU-24           [-1, 32, 16, 16]               0\n",
            "          Dropout-25           [-1, 32, 16, 16]               0\n",
            "           Conv2d-26             [-1, 32, 8, 8]           9,216\n",
            "      BatchNorm2d-27             [-1, 32, 8, 8]              64\n",
            "             ReLU-28             [-1, 32, 8, 8]               0\n",
            "          Dropout-29             [-1, 32, 8, 8]               0\n",
            "           Conv2d-30             [-1, 24, 8, 8]           6,912\n",
            "      BatchNorm2d-31             [-1, 24, 8, 8]              48\n",
            "             ReLU-32             [-1, 24, 8, 8]               0\n",
            "           Conv2d-33             [-1, 24, 8, 8]             240\n",
            "           Conv2d-34             [-1, 24, 8, 8]             600\n",
            "      BatchNorm2d-35             [-1, 24, 8, 8]              48\n",
            "             ReLU-36             [-1, 24, 8, 8]               0\n",
            "          Dropout-37             [-1, 24, 8, 8]               0\n",
            "           Conv2d-38             [-1, 16, 4, 4]           3,456\n",
            "      BatchNorm2d-39             [-1, 16, 4, 4]              32\n",
            "             ReLU-40             [-1, 16, 4, 4]               0\n",
            "          Dropout-41             [-1, 16, 4, 4]               0\n",
            "           Conv2d-42             [-1, 16, 4, 4]           2,304\n",
            "      BatchNorm2d-43             [-1, 16, 4, 4]              32\n",
            "             ReLU-44             [-1, 16, 4, 4]               0\n",
            "          Dropout-45             [-1, 16, 4, 4]               0\n",
            "           Conv2d-46             [-1, 10, 4, 4]           1,440\n",
            "        AvgPool2d-47             [-1, 10, 1, 1]               0\n",
            "================================================================\n",
            "Total params: 84,904\n",
            "Trainable params: 84,904\n",
            "Non-trainable params: 0\n",
            "----------------------------------------------------------------\n",
            "Input size (MB): 0.01\n",
            "Forward/backward pass size (MB): 5.31\n",
            "Params size (MB): 0.32\n",
            "Estimated Total Size (MB): 5.64\n",
            "----------------------------------------------------------------\n"
          ]
        }
      ]
    },
    {
      "cell_type": "code",
      "metadata": {
        "id": "2Rb4O-RAswea"
      },
      "source": [
        "def fit_model(net, NUM_EPOCHS=20, l1=False, l2=False):\n",
        "  training_acc, training_loss, testing_acc, testing_loss = list(), list(), list(), list()\n",
        "  \n",
        "  if l2:\n",
        "    optimizer = optim.SGD(net.parameters(), lr=0.001, momentum=0.9, weight_decay=1e-4)\n",
        "  else:\n",
        "    optimizer = optim.SGD(net.parameters(), lr=0.001, momentum=0.9)\n",
        "  scheduler = optim.lr_scheduler.OneCycleLR(optimizer, max_lr=0.017, epochs=NUM_EPOCHS, steps_per_epoch=len(train_loader))\n",
        "\n",
        "  for epoch in range(1,NUM_EPOCHS+1):\n",
        "      print(\"EPOCH:\", epoch)\n",
        "      train_acc, train_loss = train.train(net, device, train_loader, optimizer, l1, scheduler)\n",
        "      test_acc, test_loss = test.test(net, device, test_loader)\n",
        "\n",
        "      training_acc.append(train_acc)\n",
        "      training_loss.append(train_loss)\n",
        "      testing_acc.append(test_acc)\n",
        "      testing_loss.append(test_loss)\n",
        "      \n",
        "  return net, (training_acc, training_loss, testing_acc, testing_loss)"
      ],
      "execution_count": 15,
      "outputs": []
    },
    {
      "cell_type": "markdown",
      "metadata": {
        "id": "lzV20o54vB0Q"
      },
      "source": [
        ""
      ]
    },
    {
      "cell_type": "code",
      "metadata": {
        "id": "ufnpFih-s1z-",
        "colab": {
          "base_uri": "https://localhost:8080/"
        },
        "outputId": "9667404f-bd75-4e76-b88e-5e76989b4170"
      },
      "source": [
        "net, history = fit_model(net, NUM_EPOCHS=100)"
      ],
      "execution_count": 16,
      "outputs": [
        {
          "output_type": "stream",
          "name": "stdout",
          "text": [
            "EPOCH: 1\n"
          ]
        },
        {
          "output_type": "stream",
          "name": "stderr",
          "text": [
            "Batch_id=781 Loss=2.07273 Accuracy=22.05: 100%|██████████| 782/782 [00:43<00:00, 18.00it/s]\n"
          ]
        },
        {
          "output_type": "stream",
          "name": "stdout",
          "text": [
            "\n",
            "Test set: Average loss: 1.7034, Accuracy: 3418/10000 (34.18%)\n",
            "\n",
            "EPOCH: 2\n"
          ]
        },
        {
          "output_type": "stream",
          "name": "stderr",
          "text": [
            "Batch_id=781 Loss=1.76417 Accuracy=34.17: 100%|██████████| 782/782 [00:43<00:00, 18.07it/s]\n"
          ]
        },
        {
          "output_type": "stream",
          "name": "stdout",
          "text": [
            "\n",
            "Test set: Average loss: 1.4959, Accuracy: 4478/10000 (44.78%)\n",
            "\n",
            "EPOCH: 3\n"
          ]
        },
        {
          "output_type": "stream",
          "name": "stderr",
          "text": [
            "Batch_id=781 Loss=1.60875 Accuracy=41.04: 100%|██████████| 782/782 [00:43<00:00, 18.07it/s]\n"
          ]
        },
        {
          "output_type": "stream",
          "name": "stdout",
          "text": [
            "\n",
            "Test set: Average loss: 1.3475, Accuracy: 5176/10000 (51.76%)\n",
            "\n",
            "EPOCH: 4\n"
          ]
        },
        {
          "output_type": "stream",
          "name": "stderr",
          "text": [
            "Batch_id=781 Loss=1.50755 Accuracy=45.23: 100%|██████████| 782/782 [00:43<00:00, 18.17it/s]\n"
          ]
        },
        {
          "output_type": "stream",
          "name": "stdout",
          "text": [
            "\n",
            "Test set: Average loss: 1.2382, Accuracy: 5452/10000 (54.52%)\n",
            "\n",
            "EPOCH: 5\n"
          ]
        },
        {
          "output_type": "stream",
          "name": "stderr",
          "text": [
            "Batch_id=781 Loss=1.43342 Accuracy=48.17: 100%|██████████| 782/782 [00:43<00:00, 18.12it/s]\n"
          ]
        },
        {
          "output_type": "stream",
          "name": "stdout",
          "text": [
            "\n",
            "Test set: Average loss: 1.1757, Accuracy: 5766/10000 (57.66%)\n",
            "\n",
            "EPOCH: 6\n"
          ]
        },
        {
          "output_type": "stream",
          "name": "stderr",
          "text": [
            "Batch_id=781 Loss=1.37607 Accuracy=50.32: 100%|██████████| 782/782 [00:43<00:00, 17.99it/s]\n"
          ]
        },
        {
          "output_type": "stream",
          "name": "stdout",
          "text": [
            "\n",
            "Test set: Average loss: 1.0670, Accuracy: 6153/10000 (61.53%)\n",
            "\n",
            "EPOCH: 7\n"
          ]
        },
        {
          "output_type": "stream",
          "name": "stderr",
          "text": [
            "Batch_id=781 Loss=1.32416 Accuracy=52.57: 100%|██████████| 782/782 [00:43<00:00, 17.97it/s]\n"
          ]
        },
        {
          "output_type": "stream",
          "name": "stdout",
          "text": [
            "\n",
            "Test set: Average loss: 1.0188, Accuracy: 6378/10000 (63.78%)\n",
            "\n",
            "EPOCH: 8\n"
          ]
        },
        {
          "output_type": "stream",
          "name": "stderr",
          "text": [
            "Batch_id=781 Loss=1.28252 Accuracy=54.13: 100%|██████████| 782/782 [00:43<00:00, 18.09it/s]\n"
          ]
        },
        {
          "output_type": "stream",
          "name": "stdout",
          "text": [
            "\n",
            "Test set: Average loss: 1.0749, Accuracy: 6282/10000 (62.82%)\n",
            "\n",
            "EPOCH: 9\n"
          ]
        },
        {
          "output_type": "stream",
          "name": "stderr",
          "text": [
            "Batch_id=781 Loss=1.25389 Accuracy=55.48: 100%|██████████| 782/782 [00:42<00:00, 18.40it/s]\n"
          ]
        },
        {
          "output_type": "stream",
          "name": "stdout",
          "text": [
            "\n",
            "Test set: Average loss: 0.9513, Accuracy: 6696/10000 (66.96%)\n",
            "\n",
            "EPOCH: 10\n"
          ]
        },
        {
          "output_type": "stream",
          "name": "stderr",
          "text": [
            "Batch_id=781 Loss=1.21153 Accuracy=57.11: 100%|██████████| 782/782 [00:42<00:00, 18.22it/s]\n"
          ]
        },
        {
          "output_type": "stream",
          "name": "stdout",
          "text": [
            "\n",
            "Test set: Average loss: 0.9642, Accuracy: 6745/10000 (67.45%)\n",
            "\n",
            "EPOCH: 11\n"
          ]
        },
        {
          "output_type": "stream",
          "name": "stderr",
          "text": [
            "Batch_id=781 Loss=1.18086 Accuracy=58.35: 100%|██████████| 782/782 [00:42<00:00, 18.22it/s]\n"
          ]
        },
        {
          "output_type": "stream",
          "name": "stdout",
          "text": [
            "\n",
            "Test set: Average loss: 0.9270, Accuracy: 6823/10000 (68.23%)\n",
            "\n",
            "EPOCH: 12\n"
          ]
        },
        {
          "output_type": "stream",
          "name": "stderr",
          "text": [
            "Batch_id=781 Loss=1.15521 Accuracy=59.18: 100%|██████████| 782/782 [00:42<00:00, 18.41it/s]\n"
          ]
        },
        {
          "output_type": "stream",
          "name": "stdout",
          "text": [
            "\n",
            "Test set: Average loss: 0.7913, Accuracy: 7203/10000 (72.03%)\n",
            "\n",
            "EPOCH: 13\n"
          ]
        },
        {
          "output_type": "stream",
          "name": "stderr",
          "text": [
            "Batch_id=781 Loss=1.12629 Accuracy=60.43: 100%|██████████| 782/782 [00:42<00:00, 18.42it/s]\n"
          ]
        },
        {
          "output_type": "stream",
          "name": "stdout",
          "text": [
            "\n",
            "Test set: Average loss: 0.7957, Accuracy: 7281/10000 (72.81%)\n",
            "\n",
            "EPOCH: 14\n"
          ]
        },
        {
          "output_type": "stream",
          "name": "stderr",
          "text": [
            "Batch_id=781 Loss=1.10786 Accuracy=61.20: 100%|██████████| 782/782 [00:42<00:00, 18.32it/s]\n"
          ]
        },
        {
          "output_type": "stream",
          "name": "stdout",
          "text": [
            "\n",
            "Test set: Average loss: 0.7822, Accuracy: 7329/10000 (73.29%)\n",
            "\n",
            "EPOCH: 15\n"
          ]
        },
        {
          "output_type": "stream",
          "name": "stderr",
          "text": [
            "Batch_id=781 Loss=1.09359 Accuracy=61.83: 100%|██████████| 782/782 [00:43<00:00, 18.18it/s]\n"
          ]
        },
        {
          "output_type": "stream",
          "name": "stdout",
          "text": [
            "\n",
            "Test set: Average loss: 0.8109, Accuracy: 7133/10000 (71.33%)\n",
            "\n",
            "EPOCH: 16\n"
          ]
        },
        {
          "output_type": "stream",
          "name": "stderr",
          "text": [
            "Batch_id=781 Loss=1.06609 Accuracy=62.74: 100%|██████████| 782/782 [00:42<00:00, 18.34it/s]\n"
          ]
        },
        {
          "output_type": "stream",
          "name": "stdout",
          "text": [
            "\n",
            "Test set: Average loss: 0.8377, Accuracy: 7121/10000 (71.21%)\n",
            "\n",
            "EPOCH: 17\n"
          ]
        },
        {
          "output_type": "stream",
          "name": "stderr",
          "text": [
            "Batch_id=781 Loss=1.05237 Accuracy=63.25: 100%|██████████| 782/782 [00:42<00:00, 18.31it/s]\n"
          ]
        },
        {
          "output_type": "stream",
          "name": "stdout",
          "text": [
            "\n",
            "Test set: Average loss: 0.7401, Accuracy: 7466/10000 (74.66%)\n",
            "\n",
            "EPOCH: 18\n"
          ]
        },
        {
          "output_type": "stream",
          "name": "stderr",
          "text": [
            "Batch_id=781 Loss=1.03018 Accuracy=63.86: 100%|██████████| 782/782 [00:42<00:00, 18.37it/s]\n"
          ]
        },
        {
          "output_type": "stream",
          "name": "stdout",
          "text": [
            "\n",
            "Test set: Average loss: 0.6814, Accuracy: 7645/10000 (76.45%)\n",
            "\n",
            "EPOCH: 19\n"
          ]
        },
        {
          "output_type": "stream",
          "name": "stderr",
          "text": [
            "Batch_id=781 Loss=1.01807 Accuracy=64.57: 100%|██████████| 782/782 [00:42<00:00, 18.32it/s]\n"
          ]
        },
        {
          "output_type": "stream",
          "name": "stdout",
          "text": [
            "\n",
            "Test set: Average loss: 0.6819, Accuracy: 7593/10000 (75.93%)\n",
            "\n",
            "EPOCH: 20\n"
          ]
        },
        {
          "output_type": "stream",
          "name": "stderr",
          "text": [
            "Batch_id=781 Loss=1.00659 Accuracy=64.91: 100%|██████████| 782/782 [00:42<00:00, 18.44it/s]\n"
          ]
        },
        {
          "output_type": "stream",
          "name": "stdout",
          "text": [
            "\n",
            "Test set: Average loss: 0.6611, Accuracy: 7721/10000 (77.21%)\n",
            "\n",
            "EPOCH: 21\n"
          ]
        },
        {
          "output_type": "stream",
          "name": "stderr",
          "text": [
            "Batch_id=781 Loss=0.99487 Accuracy=65.22: 100%|██████████| 782/782 [00:42<00:00, 18.48it/s]\n"
          ]
        },
        {
          "output_type": "stream",
          "name": "stdout",
          "text": [
            "\n",
            "Test set: Average loss: 0.6541, Accuracy: 7775/10000 (77.75%)\n",
            "\n",
            "EPOCH: 22\n"
          ]
        },
        {
          "output_type": "stream",
          "name": "stderr",
          "text": [
            "Batch_id=781 Loss=0.97987 Accuracy=65.79: 100%|██████████| 782/782 [00:42<00:00, 18.33it/s]\n"
          ]
        },
        {
          "output_type": "stream",
          "name": "stdout",
          "text": [
            "\n",
            "Test set: Average loss: 0.6665, Accuracy: 7709/10000 (77.09%)\n",
            "\n",
            "EPOCH: 23\n"
          ]
        },
        {
          "output_type": "stream",
          "name": "stderr",
          "text": [
            "Batch_id=781 Loss=0.96487 Accuracy=66.28: 100%|██████████| 782/782 [00:42<00:00, 18.24it/s]\n"
          ]
        },
        {
          "output_type": "stream",
          "name": "stdout",
          "text": [
            "\n",
            "Test set: Average loss: 0.6359, Accuracy: 7800/10000 (78.00%)\n",
            "\n",
            "EPOCH: 24\n"
          ]
        },
        {
          "output_type": "stream",
          "name": "stderr",
          "text": [
            "Batch_id=781 Loss=0.95943 Accuracy=66.44: 100%|██████████| 782/782 [00:43<00:00, 17.79it/s]\n"
          ]
        },
        {
          "output_type": "stream",
          "name": "stdout",
          "text": [
            "\n",
            "Test set: Average loss: 0.6393, Accuracy: 7809/10000 (78.09%)\n",
            "\n",
            "EPOCH: 25\n"
          ]
        },
        {
          "output_type": "stream",
          "name": "stderr",
          "text": [
            "Batch_id=781 Loss=0.95065 Accuracy=66.74: 100%|██████████| 782/782 [00:44<00:00, 17.69it/s]\n"
          ]
        },
        {
          "output_type": "stream",
          "name": "stdout",
          "text": [
            "\n",
            "Test set: Average loss: 0.6442, Accuracy: 7814/10000 (78.14%)\n",
            "\n",
            "EPOCH: 26\n"
          ]
        },
        {
          "output_type": "stream",
          "name": "stderr",
          "text": [
            "Batch_id=781 Loss=0.93982 Accuracy=67.20: 100%|██████████| 782/782 [00:43<00:00, 17.87it/s]\n"
          ]
        },
        {
          "output_type": "stream",
          "name": "stdout",
          "text": [
            "\n",
            "Test set: Average loss: 0.6264, Accuracy: 7817/10000 (78.17%)\n",
            "\n",
            "EPOCH: 27\n"
          ]
        },
        {
          "output_type": "stream",
          "name": "stderr",
          "text": [
            "Batch_id=781 Loss=0.93582 Accuracy=67.24: 100%|██████████| 782/782 [00:44<00:00, 17.64it/s]\n"
          ]
        },
        {
          "output_type": "stream",
          "name": "stdout",
          "text": [
            "\n",
            "Test set: Average loss: 0.6359, Accuracy: 7829/10000 (78.29%)\n",
            "\n",
            "EPOCH: 28\n"
          ]
        },
        {
          "output_type": "stream",
          "name": "stderr",
          "text": [
            "Batch_id=781 Loss=0.92191 Accuracy=67.79: 100%|██████████| 782/782 [00:43<00:00, 17.81it/s]\n"
          ]
        },
        {
          "output_type": "stream",
          "name": "stdout",
          "text": [
            "\n",
            "Test set: Average loss: 0.6522, Accuracy: 7789/10000 (77.89%)\n",
            "\n",
            "EPOCH: 29\n"
          ]
        },
        {
          "output_type": "stream",
          "name": "stderr",
          "text": [
            "Batch_id=781 Loss=0.91484 Accuracy=67.90: 100%|██████████| 782/782 [00:44<00:00, 17.75it/s]\n"
          ]
        },
        {
          "output_type": "stream",
          "name": "stdout",
          "text": [
            "\n",
            "Test set: Average loss: 0.5816, Accuracy: 8001/10000 (80.01%)\n",
            "\n",
            "EPOCH: 30\n"
          ]
        },
        {
          "output_type": "stream",
          "name": "stderr",
          "text": [
            "Batch_id=781 Loss=0.91400 Accuracy=68.19: 100%|██████████| 782/782 [00:44<00:00, 17.67it/s]\n"
          ]
        },
        {
          "output_type": "stream",
          "name": "stdout",
          "text": [
            "\n",
            "Test set: Average loss: 0.6648, Accuracy: 7697/10000 (76.97%)\n",
            "\n",
            "EPOCH: 31\n"
          ]
        },
        {
          "output_type": "stream",
          "name": "stderr",
          "text": [
            "Batch_id=781 Loss=0.90378 Accuracy=68.42: 100%|██████████| 782/782 [00:44<00:00, 17.69it/s]\n"
          ]
        },
        {
          "output_type": "stream",
          "name": "stdout",
          "text": [
            "\n",
            "Test set: Average loss: 0.6008, Accuracy: 7912/10000 (79.12%)\n",
            "\n",
            "EPOCH: 32\n"
          ]
        },
        {
          "output_type": "stream",
          "name": "stderr",
          "text": [
            "Batch_id=781 Loss=0.89930 Accuracy=68.52: 100%|██████████| 782/782 [00:44<00:00, 17.66it/s]\n"
          ]
        },
        {
          "output_type": "stream",
          "name": "stdout",
          "text": [
            "\n",
            "Test set: Average loss: 0.6168, Accuracy: 7878/10000 (78.78%)\n",
            "\n",
            "EPOCH: 33\n"
          ]
        },
        {
          "output_type": "stream",
          "name": "stderr",
          "text": [
            "Batch_id=781 Loss=0.89154 Accuracy=68.72: 100%|██████████| 782/782 [00:44<00:00, 17.69it/s]\n"
          ]
        },
        {
          "output_type": "stream",
          "name": "stdout",
          "text": [
            "\n",
            "Test set: Average loss: 0.5787, Accuracy: 8027/10000 (80.27%)\n",
            "\n",
            "EPOCH: 34\n"
          ]
        },
        {
          "output_type": "stream",
          "name": "stderr",
          "text": [
            "Batch_id=781 Loss=0.88320 Accuracy=69.12: 100%|██████████| 782/782 [00:43<00:00, 17.80it/s]\n"
          ]
        },
        {
          "output_type": "stream",
          "name": "stdout",
          "text": [
            "\n",
            "Test set: Average loss: 0.6067, Accuracy: 7951/10000 (79.51%)\n",
            "\n",
            "EPOCH: 35\n"
          ]
        },
        {
          "output_type": "stream",
          "name": "stderr",
          "text": [
            "Batch_id=781 Loss=0.87239 Accuracy=69.64: 100%|██████████| 782/782 [00:43<00:00, 17.86it/s]\n"
          ]
        },
        {
          "output_type": "stream",
          "name": "stdout",
          "text": [
            "\n",
            "Test set: Average loss: 0.6025, Accuracy: 7958/10000 (79.58%)\n",
            "\n",
            "EPOCH: 36\n"
          ]
        },
        {
          "output_type": "stream",
          "name": "stderr",
          "text": [
            "Batch_id=781 Loss=0.86726 Accuracy=69.61: 100%|██████████| 782/782 [00:44<00:00, 17.70it/s]\n"
          ]
        },
        {
          "output_type": "stream",
          "name": "stdout",
          "text": [
            "\n",
            "Test set: Average loss: 0.5972, Accuracy: 7994/10000 (79.94%)\n",
            "\n",
            "EPOCH: 37\n"
          ]
        },
        {
          "output_type": "stream",
          "name": "stderr",
          "text": [
            "Batch_id=781 Loss=0.86876 Accuracy=69.63: 100%|██████████| 782/782 [00:43<00:00, 17.80it/s]\n"
          ]
        },
        {
          "output_type": "stream",
          "name": "stdout",
          "text": [
            "\n",
            "Test set: Average loss: 0.5384, Accuracy: 8141/10000 (81.41%)\n",
            "\n",
            "EPOCH: 38\n"
          ]
        },
        {
          "output_type": "stream",
          "name": "stderr",
          "text": [
            "Batch_id=781 Loss=0.85940 Accuracy=70.00: 100%|██████████| 782/782 [00:44<00:00, 17.75it/s]\n"
          ]
        },
        {
          "output_type": "stream",
          "name": "stdout",
          "text": [
            "\n",
            "Test set: Average loss: 0.5609, Accuracy: 8081/10000 (80.81%)\n",
            "\n",
            "EPOCH: 39\n"
          ]
        },
        {
          "output_type": "stream",
          "name": "stderr",
          "text": [
            "Batch_id=781 Loss=0.86170 Accuracy=69.84: 100%|██████████| 782/782 [00:44<00:00, 17.77it/s]\n"
          ]
        },
        {
          "output_type": "stream",
          "name": "stdout",
          "text": [
            "\n",
            "Test set: Average loss: 0.5463, Accuracy: 8134/10000 (81.34%)\n",
            "\n",
            "EPOCH: 40\n"
          ]
        },
        {
          "output_type": "stream",
          "name": "stderr",
          "text": [
            "Batch_id=781 Loss=0.85370 Accuracy=70.39: 100%|██████████| 782/782 [00:44<00:00, 17.54it/s]\n"
          ]
        },
        {
          "output_type": "stream",
          "name": "stdout",
          "text": [
            "\n",
            "Test set: Average loss: 0.5479, Accuracy: 8108/10000 (81.08%)\n",
            "\n",
            "EPOCH: 41\n"
          ]
        },
        {
          "output_type": "stream",
          "name": "stderr",
          "text": [
            "Batch_id=781 Loss=0.84444 Accuracy=70.29: 100%|██████████| 782/782 [00:44<00:00, 17.64it/s]\n"
          ]
        },
        {
          "output_type": "stream",
          "name": "stdout",
          "text": [
            "\n",
            "Test set: Average loss: 0.5325, Accuracy: 8171/10000 (81.71%)\n",
            "\n",
            "EPOCH: 42\n"
          ]
        },
        {
          "output_type": "stream",
          "name": "stderr",
          "text": [
            "Batch_id=781 Loss=0.84578 Accuracy=70.52: 100%|██████████| 782/782 [00:44<00:00, 17.62it/s]\n"
          ]
        },
        {
          "output_type": "stream",
          "name": "stdout",
          "text": [
            "\n",
            "Test set: Average loss: 0.5343, Accuracy: 8207/10000 (82.07%)\n",
            "\n",
            "EPOCH: 43\n"
          ]
        },
        {
          "output_type": "stream",
          "name": "stderr",
          "text": [
            "Batch_id=781 Loss=0.83972 Accuracy=70.68: 100%|██████████| 782/782 [00:44<00:00, 17.73it/s]\n"
          ]
        },
        {
          "output_type": "stream",
          "name": "stdout",
          "text": [
            "\n",
            "Test set: Average loss: 0.5130, Accuracy: 8202/10000 (82.02%)\n",
            "\n",
            "EPOCH: 44\n"
          ]
        },
        {
          "output_type": "stream",
          "name": "stderr",
          "text": [
            "Batch_id=781 Loss=0.83169 Accuracy=71.07: 100%|██████████| 782/782 [00:44<00:00, 17.66it/s]\n"
          ]
        },
        {
          "output_type": "stream",
          "name": "stdout",
          "text": [
            "\n",
            "Test set: Average loss: 0.5618, Accuracy: 8099/10000 (80.99%)\n",
            "\n",
            "EPOCH: 45\n"
          ]
        },
        {
          "output_type": "stream",
          "name": "stderr",
          "text": [
            "Batch_id=781 Loss=0.83312 Accuracy=70.91: 100%|██████████| 782/782 [00:44<00:00, 17.62it/s]\n"
          ]
        },
        {
          "output_type": "stream",
          "name": "stdout",
          "text": [
            "\n",
            "Test set: Average loss: 0.5304, Accuracy: 8190/10000 (81.90%)\n",
            "\n",
            "EPOCH: 46\n"
          ]
        },
        {
          "output_type": "stream",
          "name": "stderr",
          "text": [
            "Batch_id=781 Loss=0.82027 Accuracy=71.26: 100%|██████████| 782/782 [00:44<00:00, 17.59it/s]\n"
          ]
        },
        {
          "output_type": "stream",
          "name": "stdout",
          "text": [
            "\n",
            "Test set: Average loss: 0.5389, Accuracy: 8175/10000 (81.75%)\n",
            "\n",
            "EPOCH: 47\n"
          ]
        },
        {
          "output_type": "stream",
          "name": "stderr",
          "text": [
            "Batch_id=781 Loss=0.82378 Accuracy=71.35: 100%|██████████| 782/782 [00:44<00:00, 17.60it/s]\n"
          ]
        },
        {
          "output_type": "stream",
          "name": "stdout",
          "text": [
            "\n",
            "Test set: Average loss: 0.5039, Accuracy: 8263/10000 (82.63%)\n",
            "\n",
            "EPOCH: 48\n"
          ]
        },
        {
          "output_type": "stream",
          "name": "stderr",
          "text": [
            "Batch_id=781 Loss=0.81949 Accuracy=71.39: 100%|██████████| 782/782 [00:44<00:00, 17.63it/s]\n"
          ]
        },
        {
          "output_type": "stream",
          "name": "stdout",
          "text": [
            "\n",
            "Test set: Average loss: 0.5014, Accuracy: 8285/10000 (82.85%)\n",
            "\n",
            "EPOCH: 49\n"
          ]
        },
        {
          "output_type": "stream",
          "name": "stderr",
          "text": [
            "Batch_id=781 Loss=0.81331 Accuracy=71.65: 100%|██████████| 782/782 [00:44<00:00, 17.56it/s]\n"
          ]
        },
        {
          "output_type": "stream",
          "name": "stdout",
          "text": [
            "\n",
            "Test set: Average loss: 0.5112, Accuracy: 8275/10000 (82.75%)\n",
            "\n",
            "EPOCH: 50\n"
          ]
        },
        {
          "output_type": "stream",
          "name": "stderr",
          "text": [
            "Batch_id=781 Loss=0.81600 Accuracy=71.46: 100%|██████████| 782/782 [00:44<00:00, 17.64it/s]\n"
          ]
        },
        {
          "output_type": "stream",
          "name": "stdout",
          "text": [
            "\n",
            "Test set: Average loss: 0.4983, Accuracy: 8270/10000 (82.70%)\n",
            "\n",
            "EPOCH: 51\n"
          ]
        },
        {
          "output_type": "stream",
          "name": "stderr",
          "text": [
            "Batch_id=781 Loss=0.80994 Accuracy=71.67: 100%|██████████| 782/782 [00:44<00:00, 17.58it/s]\n"
          ]
        },
        {
          "output_type": "stream",
          "name": "stdout",
          "text": [
            "\n",
            "Test set: Average loss: 0.4941, Accuracy: 8311/10000 (83.11%)\n",
            "\n",
            "EPOCH: 52\n"
          ]
        },
        {
          "output_type": "stream",
          "name": "stderr",
          "text": [
            "Batch_id=781 Loss=0.80344 Accuracy=72.07: 100%|██████████| 782/782 [00:44<00:00, 17.63it/s]\n"
          ]
        },
        {
          "output_type": "stream",
          "name": "stdout",
          "text": [
            "\n",
            "Test set: Average loss: 0.4954, Accuracy: 8308/10000 (83.08%)\n",
            "\n",
            "EPOCH: 53\n"
          ]
        },
        {
          "output_type": "stream",
          "name": "stderr",
          "text": [
            "Batch_id=781 Loss=0.80450 Accuracy=72.09: 100%|██████████| 782/782 [00:44<00:00, 17.66it/s]\n"
          ]
        },
        {
          "output_type": "stream",
          "name": "stdout",
          "text": [
            "\n",
            "Test set: Average loss: 0.5288, Accuracy: 8189/10000 (81.89%)\n",
            "\n",
            "EPOCH: 54\n"
          ]
        },
        {
          "output_type": "stream",
          "name": "stderr",
          "text": [
            "Batch_id=781 Loss=0.80565 Accuracy=71.92: 100%|██████████| 782/782 [00:44<00:00, 17.70it/s]\n"
          ]
        },
        {
          "output_type": "stream",
          "name": "stdout",
          "text": [
            "\n",
            "Test set: Average loss: 0.5004, Accuracy: 8285/10000 (82.85%)\n",
            "\n",
            "EPOCH: 55\n"
          ]
        },
        {
          "output_type": "stream",
          "name": "stderr",
          "text": [
            "Batch_id=781 Loss=0.79531 Accuracy=72.15: 100%|██████████| 782/782 [00:44<00:00, 17.67it/s]\n"
          ]
        },
        {
          "output_type": "stream",
          "name": "stdout",
          "text": [
            "\n",
            "Test set: Average loss: 0.5068, Accuracy: 8285/10000 (82.85%)\n",
            "\n",
            "EPOCH: 56\n"
          ]
        },
        {
          "output_type": "stream",
          "name": "stderr",
          "text": [
            "Batch_id=781 Loss=0.79683 Accuracy=72.23: 100%|██████████| 782/782 [00:44<00:00, 17.69it/s]\n"
          ]
        },
        {
          "output_type": "stream",
          "name": "stdout",
          "text": [
            "\n",
            "Test set: Average loss: 0.5097, Accuracy: 8269/10000 (82.69%)\n",
            "\n",
            "EPOCH: 57\n"
          ]
        },
        {
          "output_type": "stream",
          "name": "stderr",
          "text": [
            "Batch_id=781 Loss=0.79367 Accuracy=72.57: 100%|██████████| 782/782 [00:44<00:00, 17.65it/s]\n"
          ]
        },
        {
          "output_type": "stream",
          "name": "stdout",
          "text": [
            "\n",
            "Test set: Average loss: 0.4925, Accuracy: 8305/10000 (83.05%)\n",
            "\n",
            "EPOCH: 58\n"
          ]
        },
        {
          "output_type": "stream",
          "name": "stderr",
          "text": [
            "Batch_id=781 Loss=0.79016 Accuracy=72.52: 100%|██████████| 782/782 [00:44<00:00, 17.69it/s]\n"
          ]
        },
        {
          "output_type": "stream",
          "name": "stdout",
          "text": [
            "\n",
            "Test set: Average loss: 0.4776, Accuracy: 8360/10000 (83.60%)\n",
            "\n",
            "EPOCH: 59\n"
          ]
        },
        {
          "output_type": "stream",
          "name": "stderr",
          "text": [
            "Batch_id=781 Loss=0.78628 Accuracy=72.61: 100%|██████████| 782/782 [00:44<00:00, 17.68it/s]\n"
          ]
        },
        {
          "output_type": "stream",
          "name": "stdout",
          "text": [
            "\n",
            "Test set: Average loss: 0.4861, Accuracy: 8327/10000 (83.27%)\n",
            "\n",
            "EPOCH: 60\n"
          ]
        },
        {
          "output_type": "stream",
          "name": "stderr",
          "text": [
            "Batch_id=781 Loss=0.78141 Accuracy=72.53: 100%|██████████| 782/782 [00:44<00:00, 17.76it/s]\n"
          ]
        },
        {
          "output_type": "stream",
          "name": "stdout",
          "text": [
            "\n",
            "Test set: Average loss: 0.4766, Accuracy: 8363/10000 (83.63%)\n",
            "\n",
            "EPOCH: 61\n"
          ]
        },
        {
          "output_type": "stream",
          "name": "stderr",
          "text": [
            "Batch_id=781 Loss=0.78132 Accuracy=72.62: 100%|██████████| 782/782 [00:43<00:00, 17.79it/s]\n"
          ]
        },
        {
          "output_type": "stream",
          "name": "stdout",
          "text": [
            "\n",
            "Test set: Average loss: 0.4648, Accuracy: 8381/10000 (83.81%)\n",
            "\n",
            "EPOCH: 62\n"
          ]
        },
        {
          "output_type": "stream",
          "name": "stderr",
          "text": [
            "Batch_id=781 Loss=0.78061 Accuracy=72.72: 100%|██████████| 782/782 [00:43<00:00, 17.80it/s]\n"
          ]
        },
        {
          "output_type": "stream",
          "name": "stdout",
          "text": [
            "\n",
            "Test set: Average loss: 0.4795, Accuracy: 8327/10000 (83.27%)\n",
            "\n",
            "EPOCH: 63\n"
          ]
        },
        {
          "output_type": "stream",
          "name": "stderr",
          "text": [
            "Batch_id=781 Loss=0.77103 Accuracy=72.95: 100%|██████████| 782/782 [00:44<00:00, 17.67it/s]\n"
          ]
        },
        {
          "output_type": "stream",
          "name": "stdout",
          "text": [
            "\n",
            "Test set: Average loss: 0.4813, Accuracy: 8328/10000 (83.28%)\n",
            "\n",
            "EPOCH: 64\n"
          ]
        },
        {
          "output_type": "stream",
          "name": "stderr",
          "text": [
            "Batch_id=781 Loss=0.77414 Accuracy=72.89: 100%|██████████| 782/782 [00:44<00:00, 17.75it/s]\n"
          ]
        },
        {
          "output_type": "stream",
          "name": "stdout",
          "text": [
            "\n",
            "Test set: Average loss: 0.4785, Accuracy: 8347/10000 (83.47%)\n",
            "\n",
            "EPOCH: 65\n"
          ]
        },
        {
          "output_type": "stream",
          "name": "stderr",
          "text": [
            "Batch_id=781 Loss=0.76457 Accuracy=73.17: 100%|██████████| 782/782 [00:44<00:00, 17.68it/s]\n"
          ]
        },
        {
          "output_type": "stream",
          "name": "stdout",
          "text": [
            "\n",
            "Test set: Average loss: 0.4660, Accuracy: 8400/10000 (84.00%)\n",
            "\n",
            "EPOCH: 66\n"
          ]
        },
        {
          "output_type": "stream",
          "name": "stderr",
          "text": [
            "Batch_id=781 Loss=0.76818 Accuracy=73.28: 100%|██████████| 782/782 [00:44<00:00, 17.69it/s]\n"
          ]
        },
        {
          "output_type": "stream",
          "name": "stdout",
          "text": [
            "\n",
            "Test set: Average loss: 0.4796, Accuracy: 8346/10000 (83.46%)\n",
            "\n",
            "EPOCH: 67\n"
          ]
        },
        {
          "output_type": "stream",
          "name": "stderr",
          "text": [
            "Batch_id=781 Loss=0.76404 Accuracy=73.34: 100%|██████████| 782/782 [00:43<00:00, 17.78it/s]\n"
          ]
        },
        {
          "output_type": "stream",
          "name": "stdout",
          "text": [
            "\n",
            "Test set: Average loss: 0.4735, Accuracy: 8379/10000 (83.79%)\n",
            "\n",
            "EPOCH: 68\n"
          ]
        },
        {
          "output_type": "stream",
          "name": "stderr",
          "text": [
            "Batch_id=781 Loss=0.76111 Accuracy=73.34: 100%|██████████| 782/782 [00:44<00:00, 17.70it/s]\n"
          ]
        },
        {
          "output_type": "stream",
          "name": "stdout",
          "text": [
            "\n",
            "Test set: Average loss: 0.4747, Accuracy: 8373/10000 (83.73%)\n",
            "\n",
            "EPOCH: 69\n"
          ]
        },
        {
          "output_type": "stream",
          "name": "stderr",
          "text": [
            "Batch_id=781 Loss=0.76127 Accuracy=73.45: 100%|██████████| 782/782 [00:44<00:00, 17.73it/s]\n"
          ]
        },
        {
          "output_type": "stream",
          "name": "stdout",
          "text": [
            "\n",
            "Test set: Average loss: 0.4723, Accuracy: 8371/10000 (83.71%)\n",
            "\n",
            "EPOCH: 70\n"
          ]
        },
        {
          "output_type": "stream",
          "name": "stderr",
          "text": [
            "Batch_id=781 Loss=0.76064 Accuracy=73.20: 100%|██████████| 782/782 [00:44<00:00, 17.65it/s]\n"
          ]
        },
        {
          "output_type": "stream",
          "name": "stdout",
          "text": [
            "\n",
            "Test set: Average loss: 0.4577, Accuracy: 8403/10000 (84.03%)\n",
            "\n",
            "EPOCH: 71\n"
          ]
        },
        {
          "output_type": "stream",
          "name": "stderr",
          "text": [
            "Batch_id=781 Loss=0.75251 Accuracy=73.63: 100%|██████████| 782/782 [00:44<00:00, 17.63it/s]\n"
          ]
        },
        {
          "output_type": "stream",
          "name": "stdout",
          "text": [
            "\n",
            "Test set: Average loss: 0.4560, Accuracy: 8434/10000 (84.34%)\n",
            "\n",
            "EPOCH: 72\n"
          ]
        },
        {
          "output_type": "stream",
          "name": "stderr",
          "text": [
            "Batch_id=781 Loss=0.75105 Accuracy=73.93: 100%|██████████| 782/782 [00:44<00:00, 17.68it/s]\n"
          ]
        },
        {
          "output_type": "stream",
          "name": "stdout",
          "text": [
            "\n",
            "Test set: Average loss: 0.4475, Accuracy: 8449/10000 (84.49%)\n",
            "\n",
            "EPOCH: 73\n"
          ]
        },
        {
          "output_type": "stream",
          "name": "stderr",
          "text": [
            "Batch_id=781 Loss=0.74562 Accuracy=74.00: 100%|██████████| 782/782 [00:44<00:00, 17.61it/s]\n"
          ]
        },
        {
          "output_type": "stream",
          "name": "stdout",
          "text": [
            "\n",
            "Test set: Average loss: 0.4417, Accuracy: 8499/10000 (84.99%)\n",
            "\n",
            "EPOCH: 74\n"
          ]
        },
        {
          "output_type": "stream",
          "name": "stderr",
          "text": [
            "Batch_id=781 Loss=0.73951 Accuracy=74.08: 100%|██████████| 782/782 [00:44<00:00, 17.64it/s]\n"
          ]
        },
        {
          "output_type": "stream",
          "name": "stdout",
          "text": [
            "\n",
            "Test set: Average loss: 0.4376, Accuracy: 8481/10000 (84.81%)\n",
            "\n",
            "EPOCH: 75\n"
          ]
        },
        {
          "output_type": "stream",
          "name": "stderr",
          "text": [
            "Batch_id=781 Loss=0.74135 Accuracy=74.13: 100%|██████████| 782/782 [00:44<00:00, 17.64it/s]\n"
          ]
        },
        {
          "output_type": "stream",
          "name": "stdout",
          "text": [
            "\n",
            "Test set: Average loss: 0.4415, Accuracy: 8468/10000 (84.68%)\n",
            "\n",
            "EPOCH: 76\n"
          ]
        },
        {
          "output_type": "stream",
          "name": "stderr",
          "text": [
            "Batch_id=781 Loss=0.74153 Accuracy=74.03: 100%|██████████| 782/782 [00:44<00:00, 17.72it/s]\n"
          ]
        },
        {
          "output_type": "stream",
          "name": "stdout",
          "text": [
            "\n",
            "Test set: Average loss: 0.4519, Accuracy: 8424/10000 (84.24%)\n",
            "\n",
            "EPOCH: 77\n"
          ]
        },
        {
          "output_type": "stream",
          "name": "stderr",
          "text": [
            "Batch_id=781 Loss=0.73720 Accuracy=74.35: 100%|██████████| 782/782 [00:44<00:00, 17.64it/s]\n"
          ]
        },
        {
          "output_type": "stream",
          "name": "stdout",
          "text": [
            "\n",
            "Test set: Average loss: 0.4406, Accuracy: 8488/10000 (84.88%)\n",
            "\n",
            "EPOCH: 78\n"
          ]
        },
        {
          "output_type": "stream",
          "name": "stderr",
          "text": [
            "Batch_id=781 Loss=0.73513 Accuracy=74.40: 100%|██████████| 782/782 [00:44<00:00, 17.69it/s]\n"
          ]
        },
        {
          "output_type": "stream",
          "name": "stdout",
          "text": [
            "\n",
            "Test set: Average loss: 0.4305, Accuracy: 8516/10000 (85.16%)\n",
            "\n",
            "EPOCH: 79\n"
          ]
        },
        {
          "output_type": "stream",
          "name": "stderr",
          "text": [
            "Batch_id=781 Loss=0.73127 Accuracy=74.55: 100%|██████████| 782/782 [00:44<00:00, 17.52it/s]\n"
          ]
        },
        {
          "output_type": "stream",
          "name": "stdout",
          "text": [
            "\n",
            "Test set: Average loss: 0.4395, Accuracy: 8509/10000 (85.09%)\n",
            "\n",
            "EPOCH: 80\n"
          ]
        },
        {
          "output_type": "stream",
          "name": "stderr",
          "text": [
            "Batch_id=781 Loss=0.72539 Accuracy=74.62: 100%|██████████| 782/782 [00:44<00:00, 17.49it/s]\n"
          ]
        },
        {
          "output_type": "stream",
          "name": "stdout",
          "text": [
            "\n",
            "Test set: Average loss: 0.4384, Accuracy: 8491/10000 (84.91%)\n",
            "\n",
            "EPOCH: 81\n"
          ]
        },
        {
          "output_type": "stream",
          "name": "stderr",
          "text": [
            "Batch_id=781 Loss=0.72492 Accuracy=74.58: 100%|██████████| 782/782 [00:44<00:00, 17.50it/s]\n"
          ]
        },
        {
          "output_type": "stream",
          "name": "stdout",
          "text": [
            "\n",
            "Test set: Average loss: 0.4347, Accuracy: 8495/10000 (84.95%)\n",
            "\n",
            "EPOCH: 82\n"
          ]
        },
        {
          "output_type": "stream",
          "name": "stderr",
          "text": [
            "Batch_id=781 Loss=0.72760 Accuracy=74.70: 100%|██████████| 782/782 [00:44<00:00, 17.58it/s]\n"
          ]
        },
        {
          "output_type": "stream",
          "name": "stdout",
          "text": [
            "\n",
            "Test set: Average loss: 0.4297, Accuracy: 8532/10000 (85.32%)\n",
            "\n",
            "EPOCH: 83\n"
          ]
        },
        {
          "output_type": "stream",
          "name": "stderr",
          "text": [
            "Batch_id=781 Loss=0.71815 Accuracy=74.90: 100%|██████████| 782/782 [00:44<00:00, 17.46it/s]\n"
          ]
        },
        {
          "output_type": "stream",
          "name": "stdout",
          "text": [
            "\n",
            "Test set: Average loss: 0.4306, Accuracy: 8528/10000 (85.28%)\n",
            "\n",
            "EPOCH: 84\n"
          ]
        },
        {
          "output_type": "stream",
          "name": "stderr",
          "text": [
            "Batch_id=781 Loss=0.71651 Accuracy=75.04: 100%|██████████| 782/782 [00:44<00:00, 17.57it/s]\n"
          ]
        },
        {
          "output_type": "stream",
          "name": "stdout",
          "text": [
            "\n",
            "Test set: Average loss: 0.4280, Accuracy: 8501/10000 (85.01%)\n",
            "\n",
            "EPOCH: 85\n"
          ]
        },
        {
          "output_type": "stream",
          "name": "stderr",
          "text": [
            "Batch_id=781 Loss=0.70953 Accuracy=75.17: 100%|██████████| 782/782 [00:44<00:00, 17.60it/s]\n"
          ]
        },
        {
          "output_type": "stream",
          "name": "stdout",
          "text": [
            "\n",
            "Test set: Average loss: 0.4222, Accuracy: 8534/10000 (85.34%)\n",
            "\n",
            "EPOCH: 86\n"
          ]
        },
        {
          "output_type": "stream",
          "name": "stderr",
          "text": [
            "Batch_id=781 Loss=0.71028 Accuracy=75.24: 100%|██████████| 782/782 [00:44<00:00, 17.55it/s]\n"
          ]
        },
        {
          "output_type": "stream",
          "name": "stdout",
          "text": [
            "\n",
            "Test set: Average loss: 0.4181, Accuracy: 8532/10000 (85.32%)\n",
            "\n",
            "EPOCH: 87\n"
          ]
        },
        {
          "output_type": "stream",
          "name": "stderr",
          "text": [
            "Batch_id=781 Loss=0.70939 Accuracy=75.36: 100%|██████████| 782/782 [00:44<00:00, 17.51it/s]\n"
          ]
        },
        {
          "output_type": "stream",
          "name": "stdout",
          "text": [
            "\n",
            "Test set: Average loss: 0.4173, Accuracy: 8568/10000 (85.68%)\n",
            "\n",
            "EPOCH: 88\n"
          ]
        },
        {
          "output_type": "stream",
          "name": "stderr",
          "text": [
            "Batch_id=781 Loss=0.71110 Accuracy=75.10: 100%|██████████| 782/782 [00:44<00:00, 17.54it/s]\n"
          ]
        },
        {
          "output_type": "stream",
          "name": "stdout",
          "text": [
            "\n",
            "Test set: Average loss: 0.4187, Accuracy: 8548/10000 (85.48%)\n",
            "\n",
            "EPOCH: 89\n"
          ]
        },
        {
          "output_type": "stream",
          "name": "stderr",
          "text": [
            "Batch_id=781 Loss=0.70304 Accuracy=75.40: 100%|██████████| 782/782 [00:44<00:00, 17.52it/s]\n"
          ]
        },
        {
          "output_type": "stream",
          "name": "stdout",
          "text": [
            "\n",
            "Test set: Average loss: 0.4180, Accuracy: 8550/10000 (85.50%)\n",
            "\n",
            "EPOCH: 90\n"
          ]
        },
        {
          "output_type": "stream",
          "name": "stderr",
          "text": [
            "Batch_id=781 Loss=0.70050 Accuracy=75.43: 100%|██████████| 782/782 [00:44<00:00, 17.68it/s]\n"
          ]
        },
        {
          "output_type": "stream",
          "name": "stdout",
          "text": [
            "\n",
            "Test set: Average loss: 0.4154, Accuracy: 8562/10000 (85.62%)\n",
            "\n",
            "EPOCH: 91\n"
          ]
        },
        {
          "output_type": "stream",
          "name": "stderr",
          "text": [
            "Batch_id=781 Loss=0.70063 Accuracy=75.72: 100%|██████████| 782/782 [00:44<00:00, 17.62it/s]\n"
          ]
        },
        {
          "output_type": "stream",
          "name": "stdout",
          "text": [
            "\n",
            "Test set: Average loss: 0.4097, Accuracy: 8605/10000 (86.05%)\n",
            "\n",
            "EPOCH: 92\n"
          ]
        },
        {
          "output_type": "stream",
          "name": "stderr",
          "text": [
            "Batch_id=781 Loss=0.68978 Accuracy=76.10: 100%|██████████| 782/782 [00:44<00:00, 17.60it/s]\n"
          ]
        },
        {
          "output_type": "stream",
          "name": "stdout",
          "text": [
            "\n",
            "Test set: Average loss: 0.4105, Accuracy: 8586/10000 (85.86%)\n",
            "\n",
            "EPOCH: 93\n"
          ]
        },
        {
          "output_type": "stream",
          "name": "stderr",
          "text": [
            "Batch_id=781 Loss=0.68746 Accuracy=75.87: 100%|██████████| 782/782 [00:44<00:00, 17.47it/s]\n"
          ]
        },
        {
          "output_type": "stream",
          "name": "stdout",
          "text": [
            "\n",
            "Test set: Average loss: 0.4066, Accuracy: 8598/10000 (85.98%)\n",
            "\n",
            "EPOCH: 94\n"
          ]
        },
        {
          "output_type": "stream",
          "name": "stderr",
          "text": [
            "Batch_id=781 Loss=0.68881 Accuracy=75.88: 100%|██████████| 782/782 [00:44<00:00, 17.50it/s]\n"
          ]
        },
        {
          "output_type": "stream",
          "name": "stdout",
          "text": [
            "\n",
            "Test set: Average loss: 0.4086, Accuracy: 8609/10000 (86.09%)\n",
            "\n",
            "EPOCH: 95\n"
          ]
        },
        {
          "output_type": "stream",
          "name": "stderr",
          "text": [
            "Batch_id=781 Loss=0.68856 Accuracy=76.05: 100%|██████████| 782/782 [00:44<00:00, 17.57it/s]\n"
          ]
        },
        {
          "output_type": "stream",
          "name": "stdout",
          "text": [
            "\n",
            "Test set: Average loss: 0.4094, Accuracy: 8598/10000 (85.98%)\n",
            "\n",
            "EPOCH: 96\n"
          ]
        },
        {
          "output_type": "stream",
          "name": "stderr",
          "text": [
            "Batch_id=781 Loss=0.68701 Accuracy=76.09: 100%|██████████| 782/782 [00:44<00:00, 17.51it/s]\n"
          ]
        },
        {
          "output_type": "stream",
          "name": "stdout",
          "text": [
            "\n",
            "Test set: Average loss: 0.4095, Accuracy: 8578/10000 (85.78%)\n",
            "\n",
            "EPOCH: 97\n"
          ]
        },
        {
          "output_type": "stream",
          "name": "stderr",
          "text": [
            "Batch_id=781 Loss=0.68963 Accuracy=75.96: 100%|██████████| 782/782 [00:44<00:00, 17.61it/s]\n"
          ]
        },
        {
          "output_type": "stream",
          "name": "stdout",
          "text": [
            "\n",
            "Test set: Average loss: 0.4096, Accuracy: 8597/10000 (85.97%)\n",
            "\n",
            "EPOCH: 98\n"
          ]
        },
        {
          "output_type": "stream",
          "name": "stderr",
          "text": [
            "Batch_id=781 Loss=0.68460 Accuracy=76.27: 100%|██████████| 782/782 [00:44<00:00, 17.56it/s]\n"
          ]
        },
        {
          "output_type": "stream",
          "name": "stdout",
          "text": [
            "\n",
            "Test set: Average loss: 0.4078, Accuracy: 8598/10000 (85.98%)\n",
            "\n",
            "EPOCH: 99\n"
          ]
        },
        {
          "output_type": "stream",
          "name": "stderr",
          "text": [
            "Batch_id=781 Loss=0.69186 Accuracy=75.67: 100%|██████████| 782/782 [00:44<00:00, 17.57it/s]\n"
          ]
        },
        {
          "output_type": "stream",
          "name": "stdout",
          "text": [
            "\n",
            "Test set: Average loss: 0.4059, Accuracy: 8604/10000 (86.04%)\n",
            "\n",
            "EPOCH: 100\n"
          ]
        },
        {
          "output_type": "stream",
          "name": "stderr",
          "text": [
            "Batch_id=781 Loss=0.68618 Accuracy=75.96: 100%|██████████| 782/782 [00:44<00:00, 17.51it/s]\n"
          ]
        },
        {
          "output_type": "stream",
          "name": "stdout",
          "text": [
            "\n",
            "Test set: Average loss: 0.4063, Accuracy: 8596/10000 (85.96%)\n",
            "\n"
          ]
        }
      ]
    },
    {
      "cell_type": "code",
      "metadata": {
        "id": "_l3ZpLoDmKAL",
        "colab": {
          "base_uri": "https://localhost:8080/",
          "height": 444
        },
        "outputId": "4324e1fb-4d61-4310-95eb-95708813c4ec"
      },
      "source": [
        "fig, axs = plt.subplots(1,2,figsize=(16,7))\n",
        "axs[0].set_title('LOSS')\n",
        "axs[0].plot(history[1], label='Train')\n",
        "axs[0].plot(history[3], label='Test')\n",
        "axs[0].legend()\n",
        "axs[0].grid()\n",
        "\n",
        "axs[1].set_title('Accuracy')\n",
        "axs[1].plot(history[0], label='Train')\n",
        "axs[1].plot(history[2], label='Test')\n",
        "axs[1].legend()\n",
        "axs[1].grid()\n",
        "\n",
        "plt.show()"
      ],
      "execution_count": 17,
      "outputs": [
        {
          "output_type": "display_data",
          "data": {
            "image/png": "[encoded data removed]",
            "text/plain": [
              "<Figure size 1152x504 with 2 Axes>"
            ]
          },
          "metadata": {
            "needs_background": "light"
          }
        }
      ]
    },
    {
      "cell_type": "code",
      "metadata": {
        "id": "-_dM0A2JmKLe"
      },
      "source": [
        ""
      ],
      "execution_count": null,
      "outputs": []
    }
  ]
}